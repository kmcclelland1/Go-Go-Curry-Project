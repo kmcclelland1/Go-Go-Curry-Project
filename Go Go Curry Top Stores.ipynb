{
 "cells": [
  {
   "cell_type": "markdown",
   "id": "f75da336-b56c-4f51-a389-75ad2ea338e6",
   "metadata": {},
   "source": [
    "# Go Go Curry Data Exploratory Analysis"
   ]
  },
  {
   "cell_type": "markdown",
   "id": "fd977be6-0465-4ef0-8e6f-11ae95e357c2",
   "metadata": {
    "jp-MarkdownHeadingCollapsed": true
   },
   "source": [
    "## Preparing the Dataset"
   ]
  },
  {
   "cell_type": "code",
   "execution_count": 30,
   "id": "6fadcbca-c219-416c-9aee-d1a15cc2be53",
   "metadata": {},
   "outputs": [
    {
     "name": "stdout",
     "output_type": "stream",
     "text": [
      "Requirement already satisfied: pandas in c:\\users\\k_mcc\\appdata\\roaming\\jupyterlab-desktop\\jlab_server\\lib\\site-packages (2.2.2)\n",
      "Requirement already satisfied: numpy>=1.26.0 in c:\\users\\k_mcc\\appdata\\roaming\\jupyterlab-desktop\\jlab_server\\lib\\site-packages (from pandas) (1.26.4)\n",
      "Requirement already satisfied: python-dateutil>=2.8.2 in c:\\users\\k_mcc\\appdata\\roaming\\jupyterlab-desktop\\jlab_server\\lib\\site-packages (from pandas) (2.9.0)\n",
      "Requirement already satisfied: pytz>=2020.1 in c:\\users\\k_mcc\\appdata\\roaming\\jupyterlab-desktop\\jlab_server\\lib\\site-packages (from pandas) (2024.1)\n",
      "Requirement already satisfied: tzdata>=2022.7 in c:\\users\\k_mcc\\appdata\\roaming\\jupyterlab-desktop\\jlab_server\\lib\\site-packages (from pandas) (2024.1)\n",
      "Requirement already satisfied: six>=1.5 in c:\\users\\k_mcc\\appdata\\roaming\\jupyterlab-desktop\\jlab_server\\lib\\site-packages (from python-dateutil>=2.8.2->pandas) (1.16.0)\n",
      "Requirement already satisfied: openpyxl in c:\\users\\k_mcc\\appdata\\roaming\\jupyterlab-desktop\\jlab_server\\lib\\site-packages (3.1.5)\n",
      "Requirement already satisfied: et-xmlfile in c:\\users\\k_mcc\\appdata\\roaming\\jupyterlab-desktop\\jlab_server\\lib\\site-packages (from openpyxl) (1.1.0)\n",
      "Requirement already satisfied: matplotlib in c:\\users\\k_mcc\\appdata\\roaming\\jupyterlab-desktop\\jlab_server\\lib\\site-packages (3.8.4)\n",
      "Collecting seaborn\n",
      "  Downloading seaborn-0.13.2-py3-none-any.whl.metadata (5.4 kB)\n",
      "Requirement already satisfied: contourpy>=1.0.1 in c:\\users\\k_mcc\\appdata\\roaming\\jupyterlab-desktop\\jlab_server\\lib\\site-packages (from matplotlib) (1.2.1)\n",
      "Requirement already satisfied: cycler>=0.10 in c:\\users\\k_mcc\\appdata\\roaming\\jupyterlab-desktop\\jlab_server\\lib\\site-packages (from matplotlib) (0.12.1)\n",
      "Requirement already satisfied: fonttools>=4.22.0 in c:\\users\\k_mcc\\appdata\\roaming\\jupyterlab-desktop\\jlab_server\\lib\\site-packages (from matplotlib) (4.51.0)\n",
      "Requirement already satisfied: kiwisolver>=1.3.1 in c:\\users\\k_mcc\\appdata\\roaming\\jupyterlab-desktop\\jlab_server\\lib\\site-packages (from matplotlib) (1.4.5)\n",
      "Requirement already satisfied: numpy>=1.21 in c:\\users\\k_mcc\\appdata\\roaming\\jupyterlab-desktop\\jlab_server\\lib\\site-packages (from matplotlib) (1.26.4)\n",
      "Requirement already satisfied: packaging>=20.0 in c:\\users\\k_mcc\\appdata\\roaming\\jupyterlab-desktop\\jlab_server\\lib\\site-packages (from matplotlib) (24.0)\n",
      "Requirement already satisfied: pillow>=8 in c:\\users\\k_mcc\\appdata\\roaming\\jupyterlab-desktop\\jlab_server\\lib\\site-packages (from matplotlib) (10.3.0)\n",
      "Requirement already satisfied: pyparsing>=2.3.1 in c:\\users\\k_mcc\\appdata\\roaming\\jupyterlab-desktop\\jlab_server\\lib\\site-packages (from matplotlib) (3.1.2)\n",
      "Requirement already satisfied: python-dateutil>=2.7 in c:\\users\\k_mcc\\appdata\\roaming\\jupyterlab-desktop\\jlab_server\\lib\\site-packages (from matplotlib) (2.9.0)\n",
      "Requirement already satisfied: pandas>=1.2 in c:\\users\\k_mcc\\appdata\\roaming\\jupyterlab-desktop\\jlab_server\\lib\\site-packages (from seaborn) (2.2.2)\n",
      "Requirement already satisfied: pytz>=2020.1 in c:\\users\\k_mcc\\appdata\\roaming\\jupyterlab-desktop\\jlab_server\\lib\\site-packages (from pandas>=1.2->seaborn) (2024.1)\n",
      "Requirement already satisfied: tzdata>=2022.7 in c:\\users\\k_mcc\\appdata\\roaming\\jupyterlab-desktop\\jlab_server\\lib\\site-packages (from pandas>=1.2->seaborn) (2024.1)\n",
      "Requirement already satisfied: six>=1.5 in c:\\users\\k_mcc\\appdata\\roaming\\jupyterlab-desktop\\jlab_server\\lib\\site-packages (from python-dateutil>=2.7->matplotlib) (1.16.0)\n",
      "Downloading seaborn-0.13.2-py3-none-any.whl (294 kB)\n",
      "   ---------------------------------------- 0.0/294.9 kB ? eta -:--:--\n",
      "   ---- ----------------------------------- 30.7/294.9 kB 1.4 MB/s eta 0:00:01\n",
      "   -------------------------- ------------- 194.6/294.9 kB 3.0 MB/s eta 0:00:01\n",
      "   ---------------------------------------- 294.9/294.9 kB 2.6 MB/s eta 0:00:00\n",
      "Installing collected packages: seaborn\n",
      "Successfully installed seaborn-0.13.2\n"
     ]
    }
   ],
   "source": [
    "#install packages\n",
    "!pip install pandas\n",
    "!pip install openpyxl\n",
    "!pip install matplotlib seaborn"
   ]
  },
  {
   "cell_type": "code",
   "execution_count": 31,
   "id": "247f52a7-58a6-4546-998d-f0f4dca798d7",
   "metadata": {},
   "outputs": [],
   "source": [
    "#import packages\n",
    "import pandas as pd\n",
    "import sqlite3\n",
    "import matplotlib.pyplot as plt\n",
    "import seaborn as sns"
   ]
  },
  {
   "cell_type": "code",
   "execution_count": 4,
   "id": "75fd31f4-67c2-4160-8771-be8fb45a257e",
   "metadata": {},
   "outputs": [
    {
     "data": {
      "text/html": [
       "<div>\n",
       "<style scoped>\n",
       "    .dataframe tbody tr th:only-of-type {\n",
       "        vertical-align: middle;\n",
       "    }\n",
       "\n",
       "    .dataframe tbody tr th {\n",
       "        vertical-align: top;\n",
       "    }\n",
       "\n",
       "    .dataframe thead th {\n",
       "        text-align: right;\n",
       "    }\n",
       "</style>\n",
       "<table border=\"1\" class=\"dataframe\">\n",
       "  <thead>\n",
       "    <tr style=\"text-align: right;\">\n",
       "      <th></th>\n",
       "      <th>Region (JP)</th>\n",
       "      <th>Region (Eng)</th>\n",
       "      <th>Prefecture (JP)</th>\n",
       "      <th>Prefecture (Eng)</th>\n",
       "      <th>Name (JP)</th>\n",
       "      <th>Address</th>\n",
       "      <th>Visited</th>\n",
       "      <th>First Visited</th>\n",
       "      <th>Tabelog Rating (Sept 2024)</th>\n",
       "      <th>Tabelog Review Count (Sept 2024)</th>\n",
       "      <th>Tabelog Link</th>\n",
       "      <th>Google Rating (Sept 2024)</th>\n",
       "      <th>Google Review Count (Sept 2024)</th>\n",
       "      <th>Google Maps Link</th>\n",
       "      <th>Shareable Maps Link</th>\n",
       "      <th>Open/Closed</th>\n",
       "    </tr>\n",
       "  </thead>\n",
       "  <tbody>\n",
       "    <tr>\n",
       "      <th>0</th>\n",
       "      <td>関東</td>\n",
       "      <td>Kanto</td>\n",
       "      <td>東京</td>\n",
       "      <td>Tokyo</td>\n",
       "      <td>ゴーゴーカレー新宿東口駅前スタジアム</td>\n",
       "      <td>〒160-0022　東京都新宿区新宿3-25-9 高橋ビルB1F</td>\n",
       "      <td>True</td>\n",
       "      <td>2015-05-01</td>\n",
       "      <td>3.08</td>\n",
       "      <td>68.0</td>\n",
       "      <td>https://tabelog.com/tokyo/A1304/A130401/13153638/</td>\n",
       "      <td>3.8</td>\n",
       "      <td>446.0</td>\n",
       "      <td>https://www.google.com/maps/place/Go!+Go!+Curr...</td>\n",
       "      <td>https://maps.app.goo.gl/nxFG8SZ6rt9asKaC7</td>\n",
       "      <td>Open</td>\n",
       "    </tr>\n",
       "    <tr>\n",
       "      <th>1</th>\n",
       "      <td>関東</td>\n",
       "      <td>Kanto</td>\n",
       "      <td>東京</td>\n",
       "      <td>Tokyo</td>\n",
       "      <td>ゴーゴーカレー新宿御苑スタジアム</td>\n",
       "      <td>〒160-0022　東京都新宿区新宿2-8-17 SYビル2F</td>\n",
       "      <td>False</td>\n",
       "      <td>NaT</td>\n",
       "      <td>3.08</td>\n",
       "      <td>81.0</td>\n",
       "      <td>https://tabelog.com/tokyo/A1304/A130402/13144127/</td>\n",
       "      <td>3.7</td>\n",
       "      <td>395.0</td>\n",
       "      <td>https://www.google.com/maps/place/Go+Go+Curry+...</td>\n",
       "      <td>https://maps.app.goo.gl/FU5Prctd91JjXN1t9</td>\n",
       "      <td>Open</td>\n",
       "    </tr>\n",
       "    <tr>\n",
       "      <th>2</th>\n",
       "      <td>関東</td>\n",
       "      <td>Kanto</td>\n",
       "      <td>東京</td>\n",
       "      <td>Tokyo</td>\n",
       "      <td>ゴーゴーカレー歌舞伎町スタジアム</td>\n",
       "      <td>〒160-0021　東京都新宿区歌舞伎町2-45-1 第5ライデンビル1F</td>\n",
       "      <td>False</td>\n",
       "      <td>NaT</td>\n",
       "      <td>3.09</td>\n",
       "      <td>72.0</td>\n",
       "      <td>https://tabelog.com/tokyo/A1304/A130401/13143680/</td>\n",
       "      <td>3.7</td>\n",
       "      <td>411.0</td>\n",
       "      <td>https://www.google.com/maps/place/Go+Go+Curry+...</td>\n",
       "      <td>https://maps.app.goo.gl/gumLs2NRZaPtiFVV9</td>\n",
       "      <td>Open</td>\n",
       "    </tr>\n",
       "    <tr>\n",
       "      <th>3</th>\n",
       "      <td>関東</td>\n",
       "      <td>Kanto</td>\n",
       "      <td>東京</td>\n",
       "      <td>Tokyo</td>\n",
       "      <td>ゴーゴーカレー羽田エアポートガーデンパーク</td>\n",
       "      <td>〒144-0041 　東京都大田区羽田空港2-7、羽田エアポートガーデン1F「カレーは日本の...</td>\n",
       "      <td>True</td>\n",
       "      <td>2023-04-01</td>\n",
       "      <td>3.03</td>\n",
       "      <td>15.0</td>\n",
       "      <td>https://tabelog.com/tokyo/A1315/A131504/13281838/</td>\n",
       "      <td>3.3</td>\n",
       "      <td>43.0</td>\n",
       "      <td>https://www.google.com/maps/place/Japan+Loves+...</td>\n",
       "      <td>https://maps.app.goo.gl/u9oxJPXcxDR3PiMW6</td>\n",
       "      <td>Open</td>\n",
       "    </tr>\n",
       "    <tr>\n",
       "      <th>4</th>\n",
       "      <td>関東</td>\n",
       "      <td>Kanto</td>\n",
       "      <td>東京</td>\n",
       "      <td>Tokyo</td>\n",
       "      <td>ゴーゴーカレー秋葉原1号店</td>\n",
       "      <td>〒101-0025　東京都千代田区神田佐久間町1-16-1 大橋ビル1F</td>\n",
       "      <td>False</td>\n",
       "      <td>NaT</td>\n",
       "      <td>3.28</td>\n",
       "      <td>315.0</td>\n",
       "      <td>https://tabelog.com/tokyo/A1310/A131001/13019730/</td>\n",
       "      <td>3.8</td>\n",
       "      <td>1364.0</td>\n",
       "      <td>https://www.google.com/maps/place/Go+Go+Curry+...</td>\n",
       "      <td>https://maps.app.goo.gl/7SNacSnQqNEf5t3K9</td>\n",
       "      <td>Open</td>\n",
       "    </tr>\n",
       "  </tbody>\n",
       "</table>\n",
       "</div>"
      ],
      "text/plain": [
       "  Region (JP) Region (Eng) Prefecture (JP) Prefecture (Eng)  \\\n",
       "0          関東        Kanto              東京            Tokyo   \n",
       "1          関東        Kanto              東京            Tokyo   \n",
       "2          関東        Kanto              東京            Tokyo   \n",
       "3          関東        Kanto              東京            Tokyo   \n",
       "4          関東        Kanto              東京            Tokyo   \n",
       "\n",
       "               Name (JP)                                            Address  \\\n",
       "0     ゴーゴーカレー新宿東口駅前スタジアム                   〒160-0022　東京都新宿区新宿3-25-9 高橋ビルB1F   \n",
       "1       ゴーゴーカレー新宿御苑スタジアム                    〒160-0022　東京都新宿区新宿2-8-17 SYビル2F   \n",
       "2       ゴーゴーカレー歌舞伎町スタジアム              〒160-0021　東京都新宿区歌舞伎町2-45-1 第5ライデンビル1F   \n",
       "3  ゴーゴーカレー羽田エアポートガーデンパーク  〒144-0041 　東京都大田区羽田空港2-7、羽田エアポートガーデン1F「カレーは日本の...   \n",
       "4          ゴーゴーカレー秋葉原1号店               〒101-0025　東京都千代田区神田佐久間町1-16-1 大橋ビル1F   \n",
       "\n",
       "   Visited First Visited  Tabelog Rating (Sept 2024)  \\\n",
       "0     True    2015-05-01                        3.08   \n",
       "1    False           NaT                        3.08   \n",
       "2    False           NaT                        3.09   \n",
       "3     True    2023-04-01                        3.03   \n",
       "4    False           NaT                        3.28   \n",
       "\n",
       "   Tabelog Review Count (Sept 2024)  \\\n",
       "0                              68.0   \n",
       "1                              81.0   \n",
       "2                              72.0   \n",
       "3                              15.0   \n",
       "4                             315.0   \n",
       "\n",
       "                                        Tabelog Link  \\\n",
       "0  https://tabelog.com/tokyo/A1304/A130401/13153638/   \n",
       "1  https://tabelog.com/tokyo/A1304/A130402/13144127/   \n",
       "2  https://tabelog.com/tokyo/A1304/A130401/13143680/   \n",
       "3  https://tabelog.com/tokyo/A1315/A131504/13281838/   \n",
       "4  https://tabelog.com/tokyo/A1310/A131001/13019730/   \n",
       "\n",
       "   Google Rating (Sept 2024)  Google Review Count (Sept 2024)  \\\n",
       "0                        3.8                            446.0   \n",
       "1                        3.7                            395.0   \n",
       "2                        3.7                            411.0   \n",
       "3                        3.3                             43.0   \n",
       "4                        3.8                           1364.0   \n",
       "\n",
       "                                    Google Maps Link  \\\n",
       "0  https://www.google.com/maps/place/Go!+Go!+Curr...   \n",
       "1  https://www.google.com/maps/place/Go+Go+Curry+...   \n",
       "2  https://www.google.com/maps/place/Go+Go+Curry+...   \n",
       "3  https://www.google.com/maps/place/Japan+Loves+...   \n",
       "4  https://www.google.com/maps/place/Go+Go+Curry+...   \n",
       "\n",
       "                         Shareable Maps Link Open/Closed  \n",
       "0  https://maps.app.goo.gl/nxFG8SZ6rt9asKaC7        Open  \n",
       "1  https://maps.app.goo.gl/FU5Prctd91JjXN1t9        Open  \n",
       "2  https://maps.app.goo.gl/gumLs2NRZaPtiFVV9        Open  \n",
       "3  https://maps.app.goo.gl/u9oxJPXcxDR3PiMW6        Open  \n",
       "4  https://maps.app.goo.gl/7SNacSnQqNEf5t3K9        Open  "
      ]
     },
     "execution_count": 4,
     "metadata": {},
     "output_type": "execute_result"
    }
   ],
   "source": [
    "#convert Excel file to dataFrame for analysis\n",
    "df = pd.read_excel('Go Go Curry Stores.xlsx')\n",
    "df.head()"
   ]
  },
  {
   "cell_type": "code",
   "execution_count": 14,
   "id": "c2339dcd-45a0-421f-918c-0403d1595d01",
   "metadata": {},
   "outputs": [
    {
     "name": "stdout",
     "output_type": "stream",
     "text": [
      "Rows, Columns\n",
      "(90, 16)\n",
      "Column Names and Data Types\n",
      "Region (JP)                                 object\n",
      "Region (Eng)                                object\n",
      "Prefecture (JP)                             object\n",
      "Prefecture (Eng)                            object\n",
      "Name (JP)                                   object\n",
      "Address                                     object\n",
      "Visited                                       bool\n",
      "First Visited                       datetime64[ns]\n",
      "Tabelog Rating (Sept 2024)                 float64\n",
      "Tabelog Review Count (Sept 2024)           float64\n",
      "Tabelog Link                                object\n",
      "Google Rating (Sept 2024)                  float64\n",
      "Google Review Count (Sept 2024)            float64\n",
      "Google Maps Link                            object\n",
      "Shareable Maps Link                         object\n",
      "Open/Closed                                 object\n",
      "dtype: object\n"
     ]
    }
   ],
   "source": [
    "#understand the shape of the data and data types\n",
    "print('Rows,', 'Columns')\n",
    "print(df.shape)\n",
    "print('Column Names and Data Types')\n",
    "print(df.dtypes)"
   ]
  },
  {
   "cell_type": "code",
   "execution_count": 5,
   "id": "022cf82e-b86e-43fb-9b6c-5c9c3d533f5b",
   "metadata": {},
   "outputs": [
    {
     "data": {
      "text/plain": [
       "90"
      ]
     },
     "execution_count": 5,
     "metadata": {},
     "output_type": "execute_result"
    }
   ],
   "source": [
    "#connect to database in order to write SQL queries\n",
    "conn = sqlite3.connect('my_database.db')\n",
    "\n",
    "df.to_sql('master_table', conn, if_exists='replace', index=False)"
   ]
  },
  {
   "cell_type": "markdown",
   "id": "21b3eb31-823e-4578-adae-2a1176b99358",
   "metadata": {
    "jp-MarkdownHeadingCollapsed": true
   },
   "source": [
    "## Exploring the Dataset "
   ]
  },
  {
   "cell_type": "code",
   "execution_count": 26,
   "id": "7c47bf13-540a-429b-bb6f-3b6f87518a71",
   "metadata": {},
   "outputs": [
    {
     "name": "stdout",
     "output_type": "stream",
     "text": [
      "Mean Google Rating:\n",
      "3.7340909090909093\n",
      "Mean Tabelog Rating:\n",
      "3.0789772727272724\n",
      "Mean Google Review Count:\n",
      "267.90909090909093\n",
      "Mean Tabelog Review Count:\n",
      "56.52272727272727\n"
     ]
    }
   ],
   "source": [
    "#Get the mean values for review counts on each site\n",
    "print('Mean Google Rating:')\n",
    "print(df['Google Rating (Sept 2024)'].mean())\n",
    "print('Mean Tabelog Rating:')\n",
    "print(df['Tabelog Rating (Sept 2024)'].mean())\n",
    "print('Mean Google Review Count:')\n",
    "print(df['Google Review Count (Sept 2024)'].mean())\n",
    "print('Mean Tabelog Review Count:')\n",
    "print(df['Tabelog Review Count (Sept 2024)'].mean())\n"
   ]
  },
  {
   "cell_type": "code",
   "execution_count": 28,
   "id": "0682dd70-16cb-4bb3-af2b-860f2dd027af",
   "metadata": {},
   "outputs": [
    {
     "name": "stdout",
     "output_type": "stream",
     "text": [
      "\n",
      "Outlier Detection Using IQR:\n",
      "Tabelog Rating (Sept 2024): 6 outliers\n",
      "Tabelog Review Count (Sept 2024): 5 outliers\n",
      "Google Rating (Sept 2024): 4 outliers\n",
      "Google Review Count (Sept 2024): 3 outliers\n"
     ]
    }
   ],
   "source": [
    "#Establish if there are any outliers in the 4 columns above\n",
    "print(\"\\nOutlier Detection Using IQR:\")\n",
    "for column in df.select_dtypes(include=['float64', 'int64']).columns:\n",
    "    Q1 = df[column].quantile(0.25)\n",
    "    Q3 = df[column].quantile(0.75)\n",
    "    IQR = Q3 - Q1\n",
    "    lower_bound = Q1 - 1.5 * IQR\n",
    "    upper_bound = Q3 + 1.5 * IQR\n",
    "    outliers = ((df[column] < lower_bound) | (df[column] > upper_bound)).sum()\n",
    "    print(f\"{column}: {outliers} outliers\")"
   ]
  },
  {
   "cell_type": "code",
   "execution_count": 32,
   "id": "42866c0a-0c62-4b88-8e04-e7c916def040",
   "metadata": {},
   "outputs": [],
   "source": [
    "#Prepare data to create boxplots\n",
    "bp1 = 'Google Rating (Sept 2024)'\n",
    "bp2 = 'Tabelog Rating (Sept 2024)'\n",
    "bp3 = 'Google Review Count (Sept 2024)'\n",
    "bp4 = 'Tabelog Review Count (Sept 2024)'"
   ]
  },
  {
   "cell_type": "code",
   "execution_count": 44,
   "id": "7a80e6a2-b8fb-49c8-bea7-d85882aef820",
   "metadata": {},
   "outputs": [
    {
     "data": {
      "image/png": "[encoded data removed]",
      "text/plain": [
       "<Figure size 800x600 with 1 Axes>"
      ]
     },
     "metadata": {},
     "output_type": "display_data"
    }
   ],
   "source": [
    "#Create a boxplot for Google Maps review scores\n",
    "plt.figure(figsize=(8,6))\n",
    "sns.boxplot(data=df, x=bp1, color='#D5B726')\n",
    "plt.title('Boxplot for Google Maps Review Score Range')\n",
    "plt.xlabel(bp1)\n",
    "plt.show()"
   ]
  },
  {
   "cell_type": "code",
   "execution_count": 43,
   "id": "219576f8-3e72-43d2-b266-b97b49b46604",
   "metadata": {},
   "outputs": [
    {
     "data": {
      "image/png": "[encoded data removed]",
      "text/plain": [
       "<Figure size 800x600 with 1 Axes>"
      ]
     },
     "metadata": {},
     "output_type": "display_data"
    }
   ],
   "source": [
    "#Create a boxplot for Tabelog review scores\n",
    "plt.figure(figsize=(8,6))\n",
    "sns.boxplot(data=df, x=bp2, color='#E31A13')\n",
    "plt.title('Boxplot for Tabelog Review Score Range')\n",
    "plt.xlabel(bp2)\n",
    "\n",
    "plt.show()"
   ]
  },
  {
   "cell_type": "code",
   "execution_count": 45,
   "id": "40be1bf5-624b-4a30-9b9b-d5fcee42812c",
   "metadata": {},
   "outputs": [
    {
     "data": {
      "image/png": "[encoded data removed]",
      "text/plain": [
       "<Figure size 800x600 with 1 Axes>"
      ]
     },
     "metadata": {},
     "output_type": "display_data"
    }
   ],
   "source": [
    "#Create a boxplot for Google Maps review counts\n",
    "plt.figure(figsize=(8,6))\n",
    "sns.boxplot(data=df, x=bp3, color='#D5B726')\n",
    "plt.title('Boxplot for Google Maps Review Counts')\n",
    "plt.xlabel(bp3)\n",
    "plt.show()"
   ]
  },
  {
   "cell_type": "code",
   "execution_count": 46,
   "id": "d26f8c83-c441-4467-845e-8636bf449e33",
   "metadata": {},
   "outputs": [
    {
     "data": {
      "image/png": "[encoded data removed]",
      "text/plain": [
       "<Figure size 800x600 with 1 Axes>"
      ]
     },
     "metadata": {},
     "output_type": "display_data"
    }
   ],
   "source": [
    "#Create a boxplot for Tabelog review counts\n",
    "plt.figure(figsize=(8,6))\n",
    "sns.boxplot(data=df, x=bp4, color='#E31A13')\n",
    "plt.title('Boxplot for Tabelog Review Counts')\n",
    "plt.xlabel(bp4)\n",
    "\n",
    "plt.show()"
   ]
  },
  {
   "cell_type": "markdown",
   "id": "1ab5e053-f7a0-46f9-bd12-00b25ceb68f9",
   "metadata": {
    "jp-MarkdownHeadingCollapsed": true
   },
   "source": [
    "## Creating New Tables for Analysis in Power BI"
   ]
  },
  {
   "cell_type": "code",
   "execution_count": 6,
   "id": "1a13b83e-4718-4f43-8e00-8b5d0c1ba9a3",
   "metadata": {},
   "outputs": [
    {
     "data": {
      "text/html": [
       "<div>\n",
       "<style scoped>\n",
       "    .dataframe tbody tr th:only-of-type {\n",
       "        vertical-align: middle;\n",
       "    }\n",
       "\n",
       "    .dataframe tbody tr th {\n",
       "        vertical-align: top;\n",
       "    }\n",
       "\n",
       "    .dataframe thead th {\n",
       "        text-align: right;\n",
       "    }\n",
       "</style>\n",
       "<table border=\"1\" class=\"dataframe\">\n",
       "  <thead>\n",
       "    <tr style=\"text-align: right;\">\n",
       "      <th></th>\n",
       "      <th>Region (Eng)</th>\n",
       "      <th>Name (JP)</th>\n",
       "      <th>Google Rating (Sept 2024)</th>\n",
       "    </tr>\n",
       "  </thead>\n",
       "  <tbody>\n",
       "    <tr>\n",
       "      <th>0</th>\n",
       "      <td>Kinki</td>\n",
       "      <td>ゴーゴーカレー通天閣フィールド</td>\n",
       "      <td>4.4</td>\n",
       "    </tr>\n",
       "    <tr>\n",
       "      <th>1</th>\n",
       "      <td>Chugoku</td>\n",
       "      <td>ゴーゴーカレー&amp;アリカフェ浜乃木店</td>\n",
       "      <td>4.3</td>\n",
       "    </tr>\n",
       "    <tr>\n",
       "      <th>2</th>\n",
       "      <td>Kyushu</td>\n",
       "      <td>ゴーゴーカレー対馬パーク</td>\n",
       "      <td>4.3</td>\n",
       "    </tr>\n",
       "    <tr>\n",
       "      <th>3</th>\n",
       "      <td>Tohoku</td>\n",
       "      <td>ゴーゴーカレー盛岡インターパーク</td>\n",
       "      <td>4.3</td>\n",
       "    </tr>\n",
       "    <tr>\n",
       "      <th>4</th>\n",
       "      <td>Chubu</td>\n",
       "      <td>ゴーゴーカレー松任徳光スタジアム</td>\n",
       "      <td>4.2</td>\n",
       "    </tr>\n",
       "    <tr>\n",
       "      <th>5</th>\n",
       "      <td>Kanto</td>\n",
       "      <td>ゴーゴーカレープレナ幕張スタジアム</td>\n",
       "      <td>4.1</td>\n",
       "    </tr>\n",
       "    <tr>\n",
       "      <th>6</th>\n",
       "      <td>Hokkaido</td>\n",
       "      <td>ゴーゴーカレー北海道大学前スタジアム</td>\n",
       "      <td>3.8</td>\n",
       "    </tr>\n",
       "  </tbody>\n",
       "</table>\n",
       "</div>"
      ],
      "text/plain": [
       "  Region (Eng)           Name (JP)  Google Rating (Sept 2024)\n",
       "0        Kinki     ゴーゴーカレー通天閣フィールド                        4.4\n",
       "1      Chugoku   ゴーゴーカレー&アリカフェ浜乃木店                        4.3\n",
       "2       Kyushu        ゴーゴーカレー対馬パーク                        4.3\n",
       "3       Tohoku    ゴーゴーカレー盛岡インターパーク                        4.3\n",
       "4        Chubu    ゴーゴーカレー松任徳光スタジアム                        4.2\n",
       "5        Kanto   ゴーゴーカレープレナ幕張スタジアム                        4.1\n",
       "6     Hokkaido  ゴーゴーカレー北海道大学前スタジアム                        3.8"
      ]
     },
     "execution_count": 6,
     "metadata": {},
     "output_type": "execute_result"
    }
   ],
   "source": [
    "#write a SQL Query to pull the top store for each region based on highest average Google Rating. If there is a tie, select the store with the highest number of reviews. \n",
    "query1 = '''\n",
    "\n",
    "WITH RankedStores AS (\n",
    "    SELECT\n",
    "        \"Region (Eng)\",\n",
    "        \"Name (JP)\",\n",
    "        \"Google Rating (Sept 2024)\",\n",
    "        \"Google Review Count (Sept 2024)\",\n",
    "        ROW_NUMBER() OVER (\n",
    "            PARTITION BY \"Region (Eng)\" \n",
    "            ORDER BY \"Google Rating (Sept 2024)\" DESC, \"Google Review Count (Sept 2024)\" DESC\n",
    "        ) AS rn\n",
    "    FROM master_table\n",
    ")\n",
    "SELECT\n",
    "    \"Region (Eng)\",\n",
    "    \"Name (JP)\",\n",
    "    \"Google Rating (Sept 2024)\"\n",
    "FROM RankedStores\n",
    "WHERE rn = 1\n",
    "ORDER BY \"Google Rating (Sept 2024)\" DESC;\n",
    "'''\n",
    "\n",
    "df1 = pd.read_sql_query(query1, conn)\n",
    "\n",
    "df1"
   ]
  },
  {
   "cell_type": "code",
   "execution_count": 8,
   "id": "f6884205-ff8d-4044-a839-a55b0d0dda0c",
   "metadata": {},
   "outputs": [
    {
     "data": {
      "text/html": [
       "<div>\n",
       "<style scoped>\n",
       "    .dataframe tbody tr th:only-of-type {\n",
       "        vertical-align: middle;\n",
       "    }\n",
       "\n",
       "    .dataframe tbody tr th {\n",
       "        vertical-align: top;\n",
       "    }\n",
       "\n",
       "    .dataframe thead th {\n",
       "        text-align: right;\n",
       "    }\n",
       "</style>\n",
       "<table border=\"1\" class=\"dataframe\">\n",
       "  <thead>\n",
       "    <tr style=\"text-align: right;\">\n",
       "      <th></th>\n",
       "      <th>Region (Eng)</th>\n",
       "      <th>Name (JP)</th>\n",
       "      <th>Tabelog Rating (Sept 2024)</th>\n",
       "    </tr>\n",
       "  </thead>\n",
       "  <tbody>\n",
       "    <tr>\n",
       "      <th>0</th>\n",
       "      <td>Chubu</td>\n",
       "      <td>ゴーゴーカレー金沢駅総本山</td>\n",
       "      <td>3.37</td>\n",
       "    </tr>\n",
       "    <tr>\n",
       "      <th>1</th>\n",
       "      <td>Kanto</td>\n",
       "      <td>ゴーゴーカレー秋葉原1号店</td>\n",
       "      <td>3.28</td>\n",
       "    </tr>\n",
       "    <tr>\n",
       "      <th>2</th>\n",
       "      <td>Kinki</td>\n",
       "      <td>ゴーゴーカレー藤井寺フィールド</td>\n",
       "      <td>3.27</td>\n",
       "    </tr>\n",
       "    <tr>\n",
       "      <th>3</th>\n",
       "      <td>Tohoku</td>\n",
       "      <td>ゴーゴーカレー仙台一番町スタジアム</td>\n",
       "      <td>3.12</td>\n",
       "    </tr>\n",
       "    <tr>\n",
       "      <th>4</th>\n",
       "      <td>Chugoku</td>\n",
       "      <td>ゴーゴーカレー岡山中仙道スタジアム</td>\n",
       "      <td>3.10</td>\n",
       "    </tr>\n",
       "    <tr>\n",
       "      <th>5</th>\n",
       "      <td>Hokkaido</td>\n",
       "      <td>ゴーゴーカレー北海道大学前スタジアム</td>\n",
       "      <td>3.08</td>\n",
       "    </tr>\n",
       "    <tr>\n",
       "      <th>6</th>\n",
       "      <td>Kyushu</td>\n",
       "      <td>ゴーゴーカレー博多バスターミナルスタジアム</td>\n",
       "      <td>3.07</td>\n",
       "    </tr>\n",
       "  </tbody>\n",
       "</table>\n",
       "</div>"
      ],
      "text/plain": [
       "  Region (Eng)              Name (JP)  Tabelog Rating (Sept 2024)\n",
       "0        Chubu          ゴーゴーカレー金沢駅総本山                        3.37\n",
       "1        Kanto          ゴーゴーカレー秋葉原1号店                        3.28\n",
       "2        Kinki        ゴーゴーカレー藤井寺フィールド                        3.27\n",
       "3       Tohoku      ゴーゴーカレー仙台一番町スタジアム                        3.12\n",
       "4      Chugoku      ゴーゴーカレー岡山中仙道スタジアム                        3.10\n",
       "5     Hokkaido     ゴーゴーカレー北海道大学前スタジアム                        3.08\n",
       "6       Kyushu  ゴーゴーカレー博多バスターミナルスタジアム                        3.07"
      ]
     },
     "execution_count": 8,
     "metadata": {},
     "output_type": "execute_result"
    }
   ],
   "source": [
    "#write a SQL Query to pull the top store for each region based on highest average Tabelog Rating. If there is a tie, select the store with the highest number of reviews. \n",
    "query2 = '''\n",
    "\n",
    "WITH RankedStores AS (\n",
    "    SELECT\n",
    "        \"Region (Eng)\",\n",
    "        \"Name (JP)\",\n",
    "        \"Tabelog Rating (Sept 2024)\",\n",
    "        \"Tabelog Review Count (Sept 2024)\",\n",
    "        ROW_NUMBER() OVER (\n",
    "            PARTITION BY \"Region (Eng)\" \n",
    "            ORDER BY \"Tabelog Rating (Sept 2024)\" DESC, \"Tabelog Review Count (Sept 2024)\" DESC\n",
    "        ) AS rn\n",
    "    FROM master_table\n",
    ")\n",
    "SELECT\n",
    "    \"Region (Eng)\",\n",
    "    \"Name (JP)\",\n",
    "    \"Tabelog Rating (Sept 2024)\"\n",
    "FROM RankedStores\n",
    "WHERE rn = 1\n",
    "ORDER BY \"Tabelog Rating (Sept 2024)\" DESC;\n",
    "'''\n",
    "\n",
    "df2 = pd.read_sql_query(query2, conn)\n",
    "\n",
    "df2"
   ]
  },
  {
   "cell_type": "code",
   "execution_count": 11,
   "id": "0188256c-cd70-4f25-be79-ab35e2b4ad1f",
   "metadata": {},
   "outputs": [
    {
     "data": {
      "text/html": [
       "<div>\n",
       "<style scoped>\n",
       "    .dataframe tbody tr th:only-of-type {\n",
       "        vertical-align: middle;\n",
       "    }\n",
       "\n",
       "    .dataframe tbody tr th {\n",
       "        vertical-align: top;\n",
       "    }\n",
       "\n",
       "    .dataframe thead th {\n",
       "        text-align: right;\n",
       "    }\n",
       "</style>\n",
       "<table border=\"1\" class=\"dataframe\">\n",
       "  <thead>\n",
       "    <tr style=\"text-align: right;\">\n",
       "      <th></th>\n",
       "      <th>Region (Eng)</th>\n",
       "      <th>Name (JP)</th>\n",
       "      <th>MAX(\"Google Review Count (Sept 2024)\")</th>\n",
       "    </tr>\n",
       "  </thead>\n",
       "  <tbody>\n",
       "    <tr>\n",
       "      <th>0</th>\n",
       "      <td>Kanto</td>\n",
       "      <td>ゴーゴーカレー秋葉原1号店</td>\n",
       "      <td>1364.0</td>\n",
       "    </tr>\n",
       "    <tr>\n",
       "      <th>1</th>\n",
       "      <td>Chubu</td>\n",
       "      <td>ゴーゴーカレー金沢駅総本山</td>\n",
       "      <td>1294.0</td>\n",
       "    </tr>\n",
       "    <tr>\n",
       "      <th>2</th>\n",
       "      <td>Kinki</td>\n",
       "      <td>ゴーゴーカレー宇治大久保店</td>\n",
       "      <td>680.0</td>\n",
       "    </tr>\n",
       "    <tr>\n",
       "      <th>3</th>\n",
       "      <td>Chugoku</td>\n",
       "      <td>ゴーゴーカレー岡山中仙道スタジアム</td>\n",
       "      <td>620.0</td>\n",
       "    </tr>\n",
       "    <tr>\n",
       "      <th>4</th>\n",
       "      <td>Tohoku</td>\n",
       "      <td>ゴーゴーカレー仙台一番町スタジアム</td>\n",
       "      <td>498.0</td>\n",
       "    </tr>\n",
       "    <tr>\n",
       "      <th>5</th>\n",
       "      <td>Kyushu</td>\n",
       "      <td>ゴーゴーカレー博多バスターミナルスタジアム</td>\n",
       "      <td>451.0</td>\n",
       "    </tr>\n",
       "    <tr>\n",
       "      <th>6</th>\n",
       "      <td>Hokkaido</td>\n",
       "      <td>ゴーゴーカレー北海道大学前スタジアム</td>\n",
       "      <td>148.0</td>\n",
       "    </tr>\n",
       "  </tbody>\n",
       "</table>\n",
       "</div>"
      ],
      "text/plain": [
       "  Region (Eng)              Name (JP)  MAX(\"Google Review Count (Sept 2024)\")\n",
       "0        Kanto          ゴーゴーカレー秋葉原1号店                                  1364.0\n",
       "1        Chubu          ゴーゴーカレー金沢駅総本山                                  1294.0\n",
       "2        Kinki          ゴーゴーカレー宇治大久保店                                   680.0\n",
       "3      Chugoku      ゴーゴーカレー岡山中仙道スタジアム                                   620.0\n",
       "4       Tohoku      ゴーゴーカレー仙台一番町スタジアム                                   498.0\n",
       "5       Kyushu  ゴーゴーカレー博多バスターミナルスタジアム                                   451.0\n",
       "6     Hokkaido     ゴーゴーカレー北海道大学前スタジアム                                   148.0"
      ]
     },
     "execution_count": 11,
     "metadata": {},
     "output_type": "execute_result"
    }
   ],
   "source": [
    "#write a SQL Query to pull the top store for each region based on highest number of Google Reviews.\n",
    "query3 = '''\n",
    "\n",
    "SELECT\n",
    "    \"Region (Eng)\",\n",
    "    \"Name (JP)\",\n",
    "    MAX(\"Google Review Count (Sept 2024)\")\n",
    "FROM master_table\n",
    "GROUP BY \"Region (Eng)\"\n",
    "ORDER BY \"Google Review Count (Sept 2024)\" DESC;\n",
    "'''\n",
    "\n",
    "df3 = pd.read_sql_query(query3, conn)\n",
    "\n",
    "df3"
   ]
  },
  {
   "cell_type": "code",
   "execution_count": 12,
   "id": "78c16f02-df6e-43fd-b07d-e5c97a12dc9c",
   "metadata": {},
   "outputs": [
    {
     "data": {
      "text/html": [
       "<div>\n",
       "<style scoped>\n",
       "    .dataframe tbody tr th:only-of-type {\n",
       "        vertical-align: middle;\n",
       "    }\n",
       "\n",
       "    .dataframe tbody tr th {\n",
       "        vertical-align: top;\n",
       "    }\n",
       "\n",
       "    .dataframe thead th {\n",
       "        text-align: right;\n",
       "    }\n",
       "</style>\n",
       "<table border=\"1\" class=\"dataframe\">\n",
       "  <thead>\n",
       "    <tr style=\"text-align: right;\">\n",
       "      <th></th>\n",
       "      <th>Region (Eng)</th>\n",
       "      <th>Name (JP)</th>\n",
       "      <th>MAX(\"Tabelog Review Count (Sept 2024)\")</th>\n",
       "    </tr>\n",
       "  </thead>\n",
       "  <tbody>\n",
       "    <tr>\n",
       "      <th>0</th>\n",
       "      <td>Chubu</td>\n",
       "      <td>ゴーゴーカレー金沢駅総本山</td>\n",
       "      <td>518.0</td>\n",
       "    </tr>\n",
       "    <tr>\n",
       "      <th>1</th>\n",
       "      <td>Kanto</td>\n",
       "      <td>ゴーゴーカレー秋葉原1号店</td>\n",
       "      <td>315.0</td>\n",
       "    </tr>\n",
       "    <tr>\n",
       "      <th>2</th>\n",
       "      <td>Kinki</td>\n",
       "      <td>ゴーゴーカレー宇治大久保店</td>\n",
       "      <td>128.0</td>\n",
       "    </tr>\n",
       "    <tr>\n",
       "      <th>3</th>\n",
       "      <td>Chugoku</td>\n",
       "      <td>ゴーゴーカレー岡山中仙道スタジアム</td>\n",
       "      <td>95.0</td>\n",
       "    </tr>\n",
       "    <tr>\n",
       "      <th>4</th>\n",
       "      <td>Kyushu</td>\n",
       "      <td>ゴーゴーカレー博多バスターミナルスタジアム</td>\n",
       "      <td>91.0</td>\n",
       "    </tr>\n",
       "    <tr>\n",
       "      <th>5</th>\n",
       "      <td>Tohoku</td>\n",
       "      <td>ゴーゴーカレー仙台一番町スタジアム</td>\n",
       "      <td>67.0</td>\n",
       "    </tr>\n",
       "    <tr>\n",
       "      <th>6</th>\n",
       "      <td>Hokkaido</td>\n",
       "      <td>ゴーゴーカレー北海道大学前スタジアム</td>\n",
       "      <td>42.0</td>\n",
       "    </tr>\n",
       "  </tbody>\n",
       "</table>\n",
       "</div>"
      ],
      "text/plain": [
       "  Region (Eng)              Name (JP)  MAX(\"Tabelog Review Count (Sept 2024)\")\n",
       "0        Chubu          ゴーゴーカレー金沢駅総本山                                    518.0\n",
       "1        Kanto          ゴーゴーカレー秋葉原1号店                                    315.0\n",
       "2        Kinki          ゴーゴーカレー宇治大久保店                                    128.0\n",
       "3      Chugoku      ゴーゴーカレー岡山中仙道スタジアム                                     95.0\n",
       "4       Kyushu  ゴーゴーカレー博多バスターミナルスタジアム                                     91.0\n",
       "5       Tohoku      ゴーゴーカレー仙台一番町スタジアム                                     67.0\n",
       "6     Hokkaido     ゴーゴーカレー北海道大学前スタジアム                                     42.0"
      ]
     },
     "execution_count": 12,
     "metadata": {},
     "output_type": "execute_result"
    }
   ],
   "source": [
    "#write a SQL Query to pull the top store for each region based on highest number of Tabelog Reviews.\n",
    "query4 = '''\n",
    "\n",
    "SELECT\n",
    "    \"Region (Eng)\",\n",
    "    \"Name (JP)\",\n",
    "    MAX(\"Tabelog Review Count (Sept 2024)\")\n",
    "FROM master_table\n",
    "GROUP BY \"Region (Eng)\"\n",
    "ORDER BY \"Tabelog Review Count (Sept 2024)\" DESC;\n",
    "'''\n",
    "\n",
    "df4 = pd.read_sql_query(query4, conn)\n",
    "\n",
    "df4"
   ]
  },
  {
   "cell_type": "code",
   "execution_count": 14,
   "id": "3c71ba15-4ebf-42df-81d8-00363038e568",
   "metadata": {},
   "outputs": [
    {
     "name": "stdout",
     "output_type": "stream",
     "text": [
      "done\n"
     ]
    }
   ],
   "source": [
    "#export the new tables to Excel for upload into Power BI\n",
    "df1.to_excel('top_google_ratings.xlsx', index=False)\n",
    "df2.to_excel('top_tabelog_ratings.xlsx', index=False)\n",
    "df3.to_excel('top_google_counts.xlsx', index=False)\n",
    "df4.to_excel('top_tabelog_counts.xlsx', index=False)\n",
    "print(\"done\")"
   ]
  }
 ],
 "metadata": {
  "kernelspec": {
   "display_name": "Python 3 (ipykernel)",
   "language": "python",
   "name": "python3"
  },
  "language_info": {
   "codemirror_mode": {
    "name": "ipython",
    "version": 3
   },
   "file_extension": ".py",
   "mimetype": "text/x-python",
   "name": "python",
   "nbconvert_exporter": "python",
   "pygments_lexer": "ipython3",
   "version": "3.12.3"
  }
 },
 "nbformat": 4,
 "nbformat_minor": 5
}
